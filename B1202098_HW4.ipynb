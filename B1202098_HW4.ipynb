{
  "nbformat": 4,
  "nbformat_minor": 0,
  "metadata": {
    "colab": {
      "provenance": []
    },
    "kernelspec": {
      "name": "python3",
      "display_name": "Python 3"
    },
    "language_info": {
      "name": "python"
    }
  },
  "cells": [
    {
      "cell_type": "code",
      "execution_count": 5,
      "metadata": {
        "colab": {
          "base_uri": "https://localhost:8080/"
        },
        "id": "a0ooTyLHAtZ_",
        "outputId": "94481710-a825-4f92-ec1d-bf524bb34a8e"
      },
      "outputs": [
        {
          "output_type": "stream",
          "name": "stdout",
          "text": [
            "請輸入五個數字，並以空格隔開：100 79 83 56 90\n",
            "84.0\n"
          ]
        }
      ],
      "source": [
        "a=str(input(\"請輸入五個數字，並以空格隔開：\"))\n",
        "a=a.split(\" \")\n",
        "b=[]\n",
        "for i in range(0,5):\n",
        "  b.append(int(a[i]))\n",
        "b.sort()\n",
        "del b[0]\n",
        "del b[3]\n",
        "average=sum(b)/len(b)\n",
        "print(average)"
      ]
    },
    {
      "cell_type": "code",
      "source": [
        "num1=float(input(\"請輸入第一個數字：\"))\n",
        "num2=float(input(\"請輸入第二個數字：\"))\n",
        "symbol=str(input(\"請輸入運算符號：\"))\n",
        "if symbol==\"+\":\n",
        "  print(num1,\"+\",num2,\"=\",num1+num2)\n",
        "elif symbol==\"-\":\n",
        "  print(num1,\"-\",num2,\"=\",num1-num2)\n",
        "elif symbol==\"*\":\n",
        "  print(num1,\"*\",num2,\"=\",num1*num2)\n",
        "elif symbol==\"/\":\n",
        "  print(num1,\"/\",num2,\"=\",num1/num2)\n",
        "else:\n",
        "  print(\"輸入格式錯誤。\")"
      ],
      "metadata": {
        "id": "3eC7s4auKjpa",
        "colab": {
          "base_uri": "https://localhost:8080/"
        },
        "outputId": "9fd8fb1a-9b48-4e6d-d881-a6765ab15a04"
      },
      "execution_count": 6,
      "outputs": [
        {
          "output_type": "stream",
          "name": "stdout",
          "text": [
            "請輸入第一個數字：13.6\n",
            "請輸入第二個數字：78.4\n",
            "請輸入運算符號：*\n",
            "13.6 * 78.4 = 1066.24\n"
          ]
        }
      ]
    },
    {
      "cell_type": "code",
      "source": [
        "year=int(input(\"請輸入年分：\"))\n",
        "if year<=1582:\n",
        "  if year%4==0:\n",
        "    print(\"閏年\")\n",
        "  else:\n",
        "    print(\"平年\")\n",
        "elif year%400==0:\n",
        "    print(\"閏年\")\n",
        "elif year%100==0:\n",
        "    print(\"平年\")\n",
        "elif year%4==0:\n",
        "    print(\"閏年\")\n",
        "else:\n",
        "  print(\"平年\")"
      ],
      "metadata": {
        "colab": {
          "base_uri": "https://localhost:8080/"
        },
        "id": "oumA7gP8IlL2",
        "outputId": "d17bf816-97c2-4b91-9c15-3704fa474e78"
      },
      "execution_count": 7,
      "outputs": [
        {
          "output_type": "stream",
          "name": "stdout",
          "text": [
            "請輸入年分：2196\n",
            "閏年\n"
          ]
        }
      ]
    }
  ]
}