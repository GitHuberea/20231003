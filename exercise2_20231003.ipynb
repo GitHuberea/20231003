{
  "nbformat": 4,
  "nbformat_minor": 0,
  "metadata": {
    "colab": {
      "provenance": []
    },
    "kernelspec": {
      "name": "python3",
      "display_name": "Python 3"
    },
    "language_info": {
      "name": "python"
    }
  },
  "cells": [
    {
      "cell_type": "code",
      "execution_count": null,
      "metadata": {
        "colab": {
          "base_uri": "https://localhost:8080/"
        },
        "id": "ufBReVricvWJ",
        "outputId": "b2536b5f-d94c-488d-957f-09e3002ac837"
      },
      "outputs": [
        {
          "output_type": "stream",
          "name": "stdout",
          "text": [
            "A\n",
            "['K', 'G', 'H', 'U']\n"
          ]
        }
      ],
      "source": [
        "a='C,B,A'\n",
        "b=['F','G','H']\n",
        "c=a.split(\",\")\n",
        "c=c+b\n",
        "c[0]='K'\n",
        "d=c.pop(2)\n",
        "print(d)\n",
        "del c[1:3]\n",
        "c.append('U')\n",
        "print(c)"
      ]
    },
    {
      "cell_type": "code",
      "source": [
        "height=float(input(\"請輸入您的身高（公分）：\"))\n",
        "weight=float(input(\"請輸入您的體重（公斤）：\"))\n",
        "bmi=weight/(height/100)**2\n",
        "print(\"BMI:\",round(bmi,1))\n",
        "if bmi<18.5:\n",
        "  print(\"體位：過輕\")\n",
        "elif bmi>=18.5 and bmi<24:\n",
        "  print(\"體位：適中\")\n",
        "elif bmi>=24 and bmi<27:\n",
        "  print(\"體位：過重\")\n",
        "else:\n",
        "  print(\"體位：肥胖\")"
      ],
      "metadata": {
        "colab": {
          "base_uri": "https://localhost:8080/"
        },
        "id": "_ohGGDH4l99I",
        "outputId": "93cf80ad-effc-4524-a536-f6cf6027fa3c"
      },
      "execution_count": null,
      "outputs": [
        {
          "output_type": "stream",
          "name": "stdout",
          "text": [
            "請輸入您的身高（公分）：170\n",
            "請輸入您的體重（公斤）：60\n",
            "BMI: 20.8\n",
            "體位：適中\n"
          ]
        }
      ]
    }
  ]
}